{
 "cells": [
  {
   "cell_type": "markdown",
   "metadata": {},
   "source": [
    "#Que-1: What data type is each of the following (evaluate where necessary)?\n",
    "#Here are the data types for each of the following expressions:\n",
    "<h3><font color='#004b87'>Datatypes</font></h3>\n",
    "<p></p>\n",
    " \n",
    "\n",
    "| Values     | Data Type    |\n",
    "| :------------ | -------------:|\n",
    "| 5             | Integer        |\n",
    "| 5.0           | Float          |\n",
    "| 5 > 1         | Boolean (True) | \n",
    "| '5'           | String         | \n",
    "| 5 * 2         | Integer        | \n",
    "| '5' * 2       | String         |\n",
    "| '5' + '2'     | String         | \n",
    "| 5 / 2         | Float          |\n",
    "| 5 % 2         | Integer        |\n",
    "| {5, 2, 1}     | Set            |\n",
    "| 5 == 3        | Boolean (False)|\n",
    "| pi            | Represent the numerical value of pi (approximately 3.14159)|\n",
    "\n",
    "\n"
   ]
  },
  {
   "cell_type": "code",
   "execution_count": 1,
   "metadata": {},
   "outputs": [
    {
     "data": {
      "text/plain": [
       "34"
      ]
     },
     "execution_count": 1,
     "metadata": {},
     "output_type": "execute_result"
    }
   ],
   "source": [
    "# Que-2: Write (and evaluate) python expressions that answer these questions:\n",
    "# a.\tHow many letters are there in 'Supercalifragilisticexpialidocious'?\n",
    "# b.\tDoes 'Supercalifragilisticexpialidocious' contain 'ice' as a substring?\n",
    "# c.\tWhich of the following words is the longest: Supercalifragilisticexpialidocious, Honorificabilitudinitatibus, \n",
    "#       or Bababadalgharaghtakamminarronnkonn?\n",
    "# d.\tWhich composer comes first in the dictionary: 'Berlioz', 'Borodin', 'Brian', 'Bartok', 'Bellini', 'Buxtehude', \n",
    "#       'Bernstein'. Which one comes last? \n",
    "\n",
    "# Answer a. \n",
    "word = \"Supercalifragilisticexpialidocious\"\n",
    "num_of_letters = len(word)\n",
    "num_of_letters\n"
   ]
  },
  {
   "cell_type": "code",
   "execution_count": 2,
   "metadata": {},
   "outputs": [],
   "source": [
    "# 2.b.\tDoes 'Supercalifragilisticexpialidocious' contain 'ice' as a substring?\n",
    "# Ans.2(b) Yes, the word 'Supercalifragilisticexpialidocious' does contain 'ice' as a substring"
   ]
  },
  {
   "cell_type": "code",
   "execution_count": 3,
   "metadata": {},
   "outputs": [],
   "source": [
    "# 2.c.\tWhich of the following words is the longest: Supercalifragilisticexpialidocious, Honorificabilitudinitatibus,  or Bababadalgharaghtakamminarronnkonn?\n",
    "\n",
    "# Ans.2(c) Both \"Supercalifragilisticexpialidocious\" and \"Bababadalgharaghtakamminarronnkonn\" are the longest words with 34 characters each\n"
   ]
  },
  {
   "cell_type": "code",
   "execution_count": 4,
   "metadata": {},
   "outputs": [],
   "source": [
    "# 2.d.\tWhich composer comes first in the dictionary: 'Berlioz', 'Borodin', 'Brian', 'Bartok', 'Bellini', 'Buxtehude', 'Bernstein'. Which one comes last?\n",
    "\n",
    "# Ans.2(d) Bartok comes first and Buxtehude comes last."
   ]
  },
  {
   "cell_type": "code",
   "execution_count": 5,
   "metadata": {},
   "outputs": [
    {
     "name": "stdout",
     "output_type": "stream",
     "text": [
      "The area of the triangle is: 1.7320508075688772\n"
     ]
    }
   ],
   "source": [
    "# Q3. Implement function triangleArea(a,b,c) that takes as input the lengths of the 3\n",
    "# sides of a triangle and returns the area of the triangle. By Heron's formula, the area \n",
    "# of a triangle with side lengths a, b, and c is s(s - a)(s -b)(s -c) , where s = (a+b+c)/2.\n",
    "\n",
    "\n",
    "def triangleArea(a, b, c):\n",
    "    s = (a + b + c) / 2\n",
    "    area = (s * (s - a) * (s - b) * (s - c)) ** 0.5\n",
    "    return area\n",
    "\n",
    "# Example usage\n",
    "a = 2\n",
    "b = 2\n",
    "c = 2\n",
    "area = triangleArea(a, b, c)\n",
    "print(\"The area of the triangle is:\", area)"
   ]
  },
  {
   "cell_type": "code",
   "execution_count": 6,
   "metadata": {},
   "outputs": [
    {
     "name": "stdout",
     "output_type": "stream",
     "text": [
      "Enter number of elements: 5\n",
      "25\n",
      "47\n",
      "42\n",
      "56\n",
      "32\n",
      "\n",
      "Entered numbers are: [25, 47, 42, 56, 32]\n",
      "\n",
      "Even numbers are: [42, 56, 32]\n",
      "\n",
      "Odd numbers are: [25, 47]\n"
     ]
    }
   ],
   "source": [
    "# Q.4. Write a program in python to separate odd and even integers in separate arrays. Go to the editor\n",
    "# Test Data :\n",
    "\n",
    "numbers = []\n",
    "even = []\n",
    "odd = []\n",
    "\n",
    "# Number of elements as input\n",
    "num = int(input(\"Enter number of elements: \"))\n",
    "\n",
    "# Get number of inputs from user\n",
    "for i in range(num):\n",
    "    a = int(input())\n",
    "    numbers.append(a)\n",
    "    if a % 2 == 0:\n",
    "        even.append(a)\n",
    "    else:\n",
    "        odd.append(a)\n",
    "        \n",
    "# Print results\n",
    "print(\"\\nEntered numbers are:\", numbers)\n",
    "print(\"\\nEven numbers are:\", even)\n",
    "print(\"\\nOdd numbers are:\", odd)"
   ]
  },
  {
   "cell_type": "markdown",
   "metadata": {},
   "source": [
    "### Q.5.(a) Write a function inside(x,y,x1,y1,x2,y2) that returns True or False depending on whether the point (x,y) lies in the rectangle with lower left corner (x1,y1) and upper right corner (x2,y2).\n"
   ]
  },
  {
   "cell_type": "code",
   "execution_count": 7,
   "metadata": {},
   "outputs": [
    {
     "name": "stdout",
     "output_type": "stream",
     "text": [
      "True\n",
      "False\n"
     ]
    }
   ],
   "source": [
    "def inside(x, y, x1, y1, x2, y2):\n",
    "    return (x1 <= x <= x2 and y1 <= y <= y2)\n",
    "\n",
    "# Example usage for part a:\n",
    "print(inside(1, 1, 0, 0, 2, 3))  # True\n",
    "print(inside(-1, -1, 0, 0, 2, 3))  # False"
   ]
  },
  {
   "cell_type": "markdown",
   "metadata": {},
   "source": [
    "### Q.5.(b) Use function inside() from part a. to write an expression that tests whether the point (1,1) lies in both of the following rectangles: one with lower left corner (0.3, 0.5) and upper right corner (1.1, 0.7) and the other with lower left corner (0.5, 0.2) and upper right corner (1.1, 2). "
   ]
  },
  {
   "cell_type": "code",
   "execution_count": 8,
   "metadata": {},
   "outputs": [
    {
     "name": "stdout",
     "output_type": "stream",
     "text": [
      "The point (1,1) does not lie in both rectangles\n"
     ]
    }
   ],
   "source": [
    "# Check if point (1,1) lies in both rectangles\n",
    "if inside(1, 1, 0.3, 0.5, 1.1, 0.7) and inside(1, 1, 0.5, 0.2, 1.1, 2):\n",
    "    print(\"The point (1,1) lies in both rectangles\")\n",
    "else:\n",
    "    print(\"The point (1,1) does not lie in both rectangles\")"
   ]
  },
  {
   "cell_type": "markdown",
   "metadata": {},
   "source": [
    "### Q.6. You can turn a word into pig-Latin using the following two rules (simplified):\n",
    "### • If the word starts with a consonant, move that letter to the end and append 'ay'. For example, 'happy' becomes 'appyhay' and 'pencil' becomes 'encilpay'. • If the word starts with a vowel, simply append 'way' to the end of the word. For example, 'enter' becomes 'enterway' and 'other' becomes 'otherway' . For our purposes, there are 5 vowels: a, e, i, o, u (so we count y as a consonant). Write a function pig() that takes a word (i.e., a string) as input and returns its pig\u0002Latin form. Your function should still work if the input word contains upper case characters. Your output should always be lower case however. "
   ]
  },
  {
   "cell_type": "code",
   "execution_count": 9,
   "metadata": {},
   "outputs": [
    {
     "name": "stdout",
     "output_type": "stream",
     "text": [
      "Enter the word that start with a consonant:happy\n",
      "Enter the word that start with a vowel:enter\n",
      "appyhay\n",
      "enterway\n"
     ]
    }
   ],
   "source": [
    "def pig(word):\n",
    "    word = word.lower()  \n",
    "    vowels = 'aeiou'\n",
    "    \n",
    "    if word[0] in vowels:\n",
    "        return word + 'way'\n",
    "    else:\n",
    "        return word[1:] + word[0] + 'ay'\n",
    "    \n",
    "input1 = input(\"Enter the word that start with a consonant:\")\n",
    "input2 = input(\"Enter the word that start with a vowel:\")\n",
    "\n",
    "print(pig(input1)) \n",
    "print(pig(input2))\n"
   ]
  },
  {
   "cell_type": "markdown",
   "metadata": {},
   "source": [
    "### Question.7. File bloodtype1.txt records blood-types of patients (A, B, AB, O or OO) at a clinic. Write a function bldcount() that reads the file with name name and reports (i.e., prints) how many patients there are in each bloodtype. >>> bldcount('bloodtype.txt') There are 10 patients of blood type A. There is one patient of blood type B. There are 10 patients of blood type AB. There are 12 patients of blood type O. There are no patients of blood type OO.\n"
   ]
  },
  {
   "cell_type": "code",
   "execution_count": 10,
   "metadata": {},
   "outputs": [
    {
     "name": "stdout",
     "output_type": "stream",
     "text": [
      "AB AB B O A A AB O AB A O O A A A O O O AB O A A A A A AB AB A AB O AB O A O O O AB O AB AB AB A A O \n",
      "\n",
      "there are 13 patients of blood type AB\n",
      "there are 15 patients of blood type A\n",
      "there are 1 patients of blood type B\n",
      "there are 15 patients of blood type O\n",
      "there are 0 patients of blood type OO\n"
     ]
    }
   ],
   "source": [
    "a=open(\"bloodtype1.txt\")\n",
    "\n",
    "def bldcount(a):\n",
    "    with open(a, 'r') as file:\n",
    "        bloodlist = file.read().split()\n",
    "\n",
    "\n",
    "\n",
    "\n",
    "#a=open(\"bloodtype1.txt\")\n",
    "data=a.read()\n",
    "print(data)\n",
    "\n",
    "\n",
    "bloodlist=data.split()\n",
    "\n",
    "AB=0\n",
    "B=0\n",
    "A=0\n",
    "O=0\n",
    "OO=0\n",
    "\n",
    "for i in range(len(bloodlist)):\n",
    "    if(bloodlist[i] == 'AB'):\n",
    "        AB= AB+1\n",
    "    elif(bloodlist[i] == 'B'):\n",
    "        B= B+1\n",
    "    elif(bloodlist[i]=='A'):\n",
    "        A= A+1\n",
    "    elif(bloodlist[i]=='O'):\n",
    "        O= O+1\n",
    "    elif(bloodlist[i]=='OO'):\n",
    "        OO=OO+1\n",
    "        \n",
    "print(\"there are {} patients of blood type AB\".format(AB))\n",
    "print(\"there are {} patients of blood type A\".format(A))\n",
    "print(\"there are {} patients of blood type B\".format(B))\n",
    "print(\"there are {} patients of blood type O\".format(O))\n",
    "print(\"there are {} patients of blood type OO\".format(OO))\n",
    "\n",
    "a.close()\n"
   ]
  },
  {
   "cell_type": "markdown",
   "metadata": {},
   "source": [
    "## Q.8. Write a function curconv() that takes as input:1. a currency represented using a string (e.g., 'JPY' for the Japanese Yen or 'EUR' for the Euro) 2. an amount and then converts and returns the amount in US dollars."
   ]
  },
  {
   "cell_type": "code",
   "execution_count": 11,
   "metadata": {},
   "outputs": [
    {
     "name": "stdout",
     "output_type": "stream",
     "text": [
      "122.96544\n"
     ]
    }
   ],
   "source": [
    "def curconv(currency, amount):  \n",
    "    rates = {}\n",
    "    with open('currencies.txt', 'r') as file:\n",
    "            for line in file:\n",
    "                parts = line.split()\n",
    "                code = parts[0]\n",
    "                rate = float(parts[1])\n",
    "                rates[code] = rate\n",
    "    \n",
    "    if currency in rates:\n",
    "        return amount * rates[currency]\n",
    "    else:\n",
    "        Print(\"rates not found\")\n",
    "\n",
    "\n",
    "print(curconv('EUR', 100))"
   ]
  },
  {
   "cell_type": "markdown",
   "metadata": {},
   "source": [
    "### Q.9. Each of the following will cause an exception (an error). Identify what type of exception each will cause.\n"
   ]
  },
  {
   "cell_type": "markdown",
   "metadata": {},
   "source": [
    "### 1.Trying to add incompatible variables, as in adding 6 + 'a':\n",
    "Reason: You cannot add an integer and a string together.\n",
    "### 2.Referring to the 12th item of a list that has only 10 items:\n",
    "Type of Exception: IndexError\n",
    "Reason: The index is out of the range of the list.\n",
    "### 3.Using a value that is out of range for a function’s input, such as calling math.sqrt(-1.0):\n",
    "Type of Exception: ValueError\n",
    "Reason: The square root function cannot handle negative numbers.\n",
    "### 4.Using an undeclared variable, such as print(x) when x has not been defined:\n",
    "Reason: The variable x is not defined in the current scope.\n",
    "### 5.Trying to open a file that does not exist, such as mistyping the file name or looking in the wrong directory:\n",
    "Type of Exception: FileNotFoundError\n",
    "Reason: The specified file cannot be found."
   ]
  },
  {
   "cell_type": "markdown",
   "metadata": {},
   "source": [
    "### Q.10. Encryption is the process of hiding the meaning of a text by substituting letters in the message with other letters, according to some system"
   ]
  },
  {
   "cell_type": "code",
   "execution_count": 12,
   "metadata": {},
   "outputs": [
    {
     "name": "stdout",
     "output_type": "stream",
     "text": [
      "[1, 1, 1, 3, 5, 1, 1, 2, 1, 0, 1, 0, 1, 2, 4, 0, 1, 2, 0, 3, 1, 0, 1, 1, 0, 0]\n"
     ]
    }
   ],
   "source": [
    "def frequencies(a):\n",
    "    letters = 'abcdefghijklmnopqrstuvwxyz'\n",
    "    freq_list = [0] * 26  # Initialize a list of 26 zeros\n",
    "\n",
    "    for char in a.lower():\n",
    "        if char in letters:\n",
    "            index = letters.index(char)\n",
    "            freq_list[index] += 1\n",
    "\n",
    "    return freq_list\n",
    "\n",
    "# Examples\n",
    "print(frequencies('The quick red fox got bored and went home.'))"
   ]
  },
  {
   "cell_type": "code",
   "execution_count": 13,
   "metadata": {},
   "outputs": [
    {
     "name": "stdout",
     "output_type": "stream",
     "text": [
      "[1, 0, 0, 0, 1, 0, 0, 0, 0, 0, 0, 1, 0, 0, 0, 2, 0, 0, 0, 0, 0, 0, 0, 0, 0, 0]\n"
     ]
    }
   ],
   "source": [
    "print(frequencies('apple'))"
   ]
  },
  {
   "cell_type": "code",
   "execution_count": null,
   "metadata": {},
   "outputs": [],
   "source": []
  }
 ],
 "metadata": {
  "kernelspec": {
   "display_name": "Python 3",
   "language": "python",
   "name": "python3"
  },
  "language_info": {
   "codemirror_mode": {
    "name": "ipython",
    "version": 3
   },
   "file_extension": ".py",
   "mimetype": "text/x-python",
   "name": "python",
   "nbconvert_exporter": "python",
   "pygments_lexer": "ipython3",
   "version": "3.7.6"
  }
 },
 "nbformat": 4,
 "nbformat_minor": 4
}
